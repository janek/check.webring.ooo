{
 "cells": [
  {
   "cell_type": "raw",
   "metadata": {
    "vscode": {
     "languageId": "raw"
    }
   },
   "source": [
    "# Exploring `names_dataset` \n",
    "Quick hands-on tour of the data shipped with the library so we can decide what slice makes sense for check.webring.ooo.\n"
   ]
  },
  {
   "cell_type": "code",
   "execution_count": 11,
   "metadata": {},
   "outputs": [
    {
     "name": "stdout",
     "output_type": "stream",
     "text": [
      "⚡ Already loaded, skipping initialization\n"
     ]
    }
   ],
   "source": [
    "from names_dataset import NameDataset, NameWrapper\n",
    "import random, itertools, json, pprint\n",
    "\n",
    "# Skip heavy init if already loaded (prevents re-run on \"Run All\")\n",
    "if \"nd\" not in globals():\n",
    "    print(\"Loading NameDataset... (~2s, >100 MB RAM)\")\n",
    "    nd = NameDataset()\n",
    "    print(\n",
    "        \"✓ Loaded! first names = %d, last names = %d\"\n",
    "        % (len(nd.first_names), len(nd.last_names))\n",
    "    )\n",
    "else:\n",
    "    print(\"⚡ Already loaded, skipping initialization\")\n"
   ]
  },
  {
   "cell_type": "code",
   "execution_count": 13,
   "metadata": {},
   "outputs": [
    {
     "name": "stdout",
     "output_type": "stream",
     "text": [
      "['Senussi', 'Anádia', 'Curuvija', 'Zcarmen', 'Thìn', 'Marani', 'Papá Alfredo', 'Vejaa', 'Rawhya', 'Bank', 'Thainan', 'Местный', 'Alex Junius', 'Cândido', 'Nouhyla', 'Çhø', 'Rhila', 'Efser', 'Igusia', 'Elif Ada']\n"
     ]
    }
   ],
   "source": [
    "# 1. Random sample of 20\n",
    "sample_names = random.sample(list(nd.first_names.keys()), 20)\n",
    "print(sample_names)\n"
   ]
  },
  {
   "cell_type": "code",
   "execution_count": null,
   "metadata": {},
   "outputs": [
    {
     "name": "stdout",
     "output_type": "stream",
     "text": [
      "['Md', 'Mohammad', 'Abdul', 'Sumon', 'Abu', 'Sk', 'Saiful', 'Hasan', 'Kazi', 'মোঃ', 'Arif', 'Masud', 'Abdullah', 'Imran', 'Abdur', 'Shamim', 'Mamun', 'Rasel', 'Angel', 'Sohel', 'Rubel', 'Tanvir', 'Mehedi', 'Abul', 'Al'] ...\n"
     ]
    }
   ],
   "source": [
    "# 2. Top-N names (popularity across all countries)\n",
    "\n",
    "top_raw = nd.get_top_names(n=50, use_first_names=True)\n",
    "\n",
    "\n",
    "def flatten_top(d):\n",
    "    for country_map in d.values():\n",
    "        for gender_map in country_map.values():\n",
    "            yield from gender_map\n",
    "\n",
    "\n",
    "top50 = list(itertools.islice(flatten_top(top_raw), 50))\n",
    "print(top50[:250], \"...\")\n"
   ]
  },
  {
   "cell_type": "raw",
   "metadata": {
    "vscode": {
     "languageId": "raw"
    }
   },
   "source": [
    "## 3. Inspect metadata for a given name\n"
   ]
  },
  {
   "cell_type": "code",
   "execution_count": 9,
   "metadata": {},
   "outputs": [
    {
     "ename": "KeyError",
     "evalue": "'last_name'",
     "output_type": "error",
     "traceback": [
      "\u001b[31m---------------------------------------------------------------------------\u001b[39m",
      "\u001b[31mKeyError\u001b[39m                                  Traceback (most recent call last)",
      "\u001b[36mCell\u001b[39m\u001b[36m \u001b[39m\u001b[32mIn[9]\u001b[39m\u001b[32m, line 4\u001b[39m\n\u001b[32m      2\u001b[39m result = nd.search(name)\n\u001b[32m      3\u001b[39m wrapper = NameWrapper(result[\u001b[33m\"\u001b[39m\u001b[33mfirst_name\u001b[39m\u001b[33m\"\u001b[39m])\n\u001b[32m----> \u001b[39m\u001b[32m4\u001b[39m \u001b[38;5;28mprint\u001b[39m(\u001b[33m\"\u001b[39m\u001b[33mGender/Country guess →\u001b[39m\u001b[33m\"\u001b[39m, \u001b[43mwrapper\u001b[49m\u001b[43m.\u001b[49m\u001b[43mdescribe\u001b[49m)\n\u001b[32m      5\u001b[39m pprint.pp(result)\n",
      "\u001b[36mFile \u001b[39m\u001b[32m~/Developer/personal/check.webring.ooo/backend/.venv/lib/python3.12/site-packages/names_dataset/nd_v3.py:49\u001b[39m, in \u001b[36mNameWrapper.describe\u001b[39m\u001b[34m(self)\u001b[39m\n\u001b[32m     47\u001b[39m \u001b[38;5;129m@property\u001b[39m\n\u001b[32m     48\u001b[39m \u001b[38;5;28;01mdef\u001b[39;00m\u001b[38;5;250m \u001b[39m\u001b[34mdescribe\u001b[39m(\u001b[38;5;28mself\u001b[39m):\n\u001b[32m---> \u001b[39m\u001b[32m49\u001b[39m     \u001b[38;5;28;01mreturn\u001b[39;00m \u001b[33mf\u001b[39m\u001b[33m'\u001b[39m\u001b[38;5;132;01m{\u001b[39;00m\u001b[38;5;28;43mself\u001b[39;49m\u001b[43m.\u001b[49m\u001b[43mgender\u001b[49m\u001b[38;5;132;01m}\u001b[39;00m\u001b[33m, \u001b[39m\u001b[38;5;132;01m{\u001b[39;00m\u001b[38;5;28mself\u001b[39m.country\u001b[38;5;132;01m}\u001b[39;00m\u001b[33m'\u001b[39m\n",
      "\u001b[36mFile \u001b[39m\u001b[32m~/Developer/personal/check.webring.ooo/backend/.venv/lib/python3.12/site-packages/names_dataset/nd_v3.py:45\u001b[39m, in \u001b[36mNameWrapper.gender\u001b[39m\u001b[34m(self)\u001b[39m\n\u001b[32m     43\u001b[39m \u001b[38;5;129m@property\u001b[39m\n\u001b[32m     44\u001b[39m \u001b[38;5;28;01mdef\u001b[39;00m\u001b[38;5;250m \u001b[39m\u001b[34mgender\u001b[39m(\u001b[38;5;28mself\u001b[39m):\n\u001b[32m---> \u001b[39m\u001b[32m45\u001b[39m     \u001b[38;5;28;01mreturn\u001b[39;00m \u001b[38;5;28;43mself\u001b[39;49m\u001b[43m.\u001b[49m\u001b[43m_attrib\u001b[49m\u001b[43m(\u001b[49m\u001b[33;43m'\u001b[39;49m\u001b[33;43mgender\u001b[39;49m\u001b[33;43m'\u001b[39;49m\u001b[43m)\u001b[49m\n",
      "\u001b[36mFile \u001b[39m\u001b[32m~/Developer/personal/check.webring.ooo/backend/.venv/lib/python3.12/site-packages/names_dataset/nd_v3.py:35\u001b[39m, in \u001b[36mNameWrapper._attrib\u001b[39m\u001b[34m(self, attrib_name)\u001b[39m\n\u001b[32m     33\u001b[39m \u001b[38;5;28;01mdef\u001b[39;00m\u001b[38;5;250m \u001b[39m\u001b[34m_attrib\u001b[39m(\u001b[38;5;28mself\u001b[39m, attrib_name):\n\u001b[32m     34\u001b[39m     key = \u001b[33m'\u001b[39m\u001b[33mfirst_name\u001b[39m\u001b[33m'\u001b[39m \u001b[38;5;28;01mif\u001b[39;00m \u001b[38;5;28mself\u001b[39m.d.get(\u001b[33m'\u001b[39m\u001b[33mfirst_name\u001b[39m\u001b[33m'\u001b[39m) \u001b[38;5;129;01mis\u001b[39;00m \u001b[38;5;129;01mnot\u001b[39;00m \u001b[38;5;28;01mNone\u001b[39;00m \u001b[38;5;28;01melse\u001b[39;00m \u001b[33m'\u001b[39m\u001b[33mlast_name\u001b[39m\u001b[33m'\u001b[39m\n\u001b[32m---> \u001b[39m\u001b[32m35\u001b[39m     \u001b[38;5;28;01mif\u001b[39;00m \u001b[38;5;28;43mself\u001b[39;49m\u001b[43m.\u001b[49m\u001b[43md\u001b[49m\u001b[43m[\u001b[49m\u001b[43mkey\u001b[49m\u001b[43m]\u001b[49m \u001b[38;5;129;01mis\u001b[39;00m \u001b[38;5;28;01mNone\u001b[39;00m:\n\u001b[32m     36\u001b[39m         \u001b[38;5;28;01mreturn\u001b[39;00m \u001b[33m'\u001b[39m\u001b[33m'\u001b[39m\n\u001b[32m     37\u001b[39m     \u001b[38;5;28;01mreturn\u001b[39;00m _arg(\u001b[38;5;28mself\u001b[39m.d[key][attrib_name], \u001b[38;5;28mmax\u001b[39m)\n",
      "\u001b[31mKeyError\u001b[39m: 'last_name'"
     ]
    }
   ],
   "source": [
    "name = \"Alice\"\n",
    "result = nd.search(name)\n",
    "wrapper = NameWrapper(result[\"first_name\"])\n",
    "print(\"Gender/Country guess →\", wrapper.describe)\n",
    "pprint.pp(result)\n"
   ]
  },
  {
   "cell_type": "raw",
   "metadata": {
    "vscode": {
     "languageId": "raw"
    }
   },
   "source": [
    "## 4. Autocomplete / fuzzy search demo\n"
   ]
  },
  {
   "cell_type": "code",
   "execution_count": 10,
   "metadata": {},
   "outputs": [
    {
     "name": "stdout",
     "output_type": "stream",
     "text": [
      "Autocomplete for \"ali\" → [{'name': 'Ali', 'rank': 7}, {'name': 'Alicia', 'rank': 171}, {'name': 'Alice', 'rank': 198}, {'name': 'Alina', 'rank': 482}, {'name': 'Alison', 'rank': 577}, {'name': 'Aline', 'rank': 728}, {'name': 'Alisados', 'rank': 976}, {'name': 'Alia', 'rank': 1034}, {'name': 'Alim', 'rank': 1099}, {'name': 'Alisa', 'rank': 1142}]\n"
     ]
    },
    {
     "ename": "ModuleNotFoundError",
     "evalue": "No module named 'fuzzywuzzy'",
     "output_type": "error",
     "traceback": [
      "\u001b[31m---------------------------------------------------------------------------\u001b[39m",
      "\u001b[31mModuleNotFoundError\u001b[39m                       Traceback (most recent call last)",
      "\u001b[36mCell\u001b[39m\u001b[36m \u001b[39m\u001b[32mIn[10]\u001b[39m\u001b[32m, line 2\u001b[39m\n\u001b[32m      1\u001b[39m \u001b[38;5;28mprint\u001b[39m(\u001b[33m'\u001b[39m\u001b[33mAutocomplete for \u001b[39m\u001b[33m\"\u001b[39m\u001b[33mali\u001b[39m\u001b[33m\"\u001b[39m\u001b[33m →\u001b[39m\u001b[33m'\u001b[39m, nd.auto_complete(\u001b[33m\"\u001b[39m\u001b[33mali\u001b[39m\u001b[33m\"\u001b[39m, n=\u001b[32m10\u001b[39m))\n\u001b[32m----> \u001b[39m\u001b[32m2\u001b[39m \u001b[38;5;28mprint\u001b[39m(\u001b[33m'\u001b[39m\u001b[33mFuzzy for \u001b[39m\u001b[33m\"\u001b[39m\u001b[33malise\u001b[39m\u001b[33m\"\u001b[39m\u001b[33m →\u001b[39m\u001b[33m'\u001b[39m, \u001b[43mnd\u001b[49m\u001b[43m.\u001b[49m\u001b[43mfuzzy_search\u001b[49m\u001b[43m(\u001b[49m\u001b[33;43m\"\u001b[39;49m\u001b[33;43malise\u001b[39;49m\u001b[33;43m\"\u001b[39;49m\u001b[43m,\u001b[49m\u001b[43m \u001b[49m\u001b[43mn\u001b[49m\u001b[43m=\u001b[49m\u001b[32;43m5\u001b[39;49m\u001b[43m)\u001b[49m)\n",
      "\u001b[36mFile \u001b[39m\u001b[32m~/Developer/personal/check.webring.ooo/backend/.venv/lib/python3.12/site-packages/names_dataset/nd_v3.py:150\u001b[39m, in \u001b[36mNameDataset.fuzzy_search\u001b[39m\u001b[34m(self, name, n, use_first_names, country_alpha2, gender)\u001b[39m\n\u001b[32m    148\u001b[39m name, gender = \u001b[38;5;28mself\u001b[39m._process_inputs(name, use_first_names, gender, country_alpha2)\n\u001b[32m    149\u001b[39m names_dict = \u001b[38;5;28mself\u001b[39m.first_names \u001b[38;5;28;01mif\u001b[39;00m use_first_names \u001b[38;5;28;01melse\u001b[39;00m \u001b[38;5;28mself\u001b[39m.last_names\n\u001b[32m--> \u001b[39m\u001b[32m150\u001b[39m \u001b[38;5;28;01mreturn\u001b[39;00m \u001b[43m_fuzzy_search\u001b[49m\u001b[43m(\u001b[49m\n\u001b[32m    151\u001b[39m \u001b[43m    \u001b[49m\u001b[43mn\u001b[49m\u001b[43m=\u001b[49m\u001b[43mn\u001b[49m\u001b[43m,\u001b[49m\u001b[43m \u001b[49m\u001b[43mfuzzy_name\u001b[49m\u001b[43m=\u001b[49m\u001b[43mname\u001b[49m\u001b[43m,\u001b[49m\u001b[43m \u001b[49m\u001b[43mnames_dict\u001b[49m\u001b[43m=\u001b[49m\u001b[43mnames_dict\u001b[49m\u001b[43m,\u001b[49m\u001b[43m \u001b[49m\u001b[43mgender\u001b[49m\u001b[43m=\u001b[49m\u001b[43mgender\u001b[49m\u001b[43m,\u001b[49m\u001b[43m \u001b[49m\u001b[43mcountry_alpha2\u001b[49m\u001b[43m=\u001b[49m\u001b[43mcountry_alpha2\u001b[49m\n\u001b[32m    152\u001b[39m \u001b[43m\u001b[49m\u001b[43m)\u001b[49m\n",
      "\u001b[36mFile \u001b[39m\u001b[32m~/Developer/personal/check.webring.ooo/backend/.venv/lib/python3.12/site-packages/names_dataset/nd_v3.py:90\u001b[39m, in \u001b[36m_fuzzy_search\u001b[39m\u001b[34m(fuzzy_name, names_dict, n, gender, country_alpha2)\u001b[39m\n\u001b[32m     83\u001b[39m \u001b[38;5;28;01mdef\u001b[39;00m\u001b[38;5;250m \u001b[39m\u001b[34m_fuzzy_search\u001b[39m(\n\u001b[32m     84\u001b[39m         fuzzy_name: \u001b[38;5;28mstr\u001b[39m,\n\u001b[32m     85\u001b[39m         names_dict: Dict[\u001b[38;5;28mstr\u001b[39m, Dict],\n\u001b[32m   (...)\u001b[39m\u001b[32m     88\u001b[39m         country_alpha2: Optional[\u001b[38;5;28mstr\u001b[39m] = \u001b[38;5;28;01mNone\u001b[39;00m,\n\u001b[32m     89\u001b[39m ) -> List[Dict]:\n\u001b[32m---> \u001b[39m\u001b[32m90\u001b[39m     \u001b[38;5;28;01mfrom\u001b[39;00m\u001b[38;5;250m \u001b[39m\u001b[34;01mfuzzywuzzy\u001b[39;00m\u001b[38;5;250m \u001b[39m\u001b[38;5;28;01mimport\u001b[39;00m fuzz\n\u001b[32m     91\u001b[39m     closest_names = []\n\u001b[32m     92\u001b[39m     \u001b[38;5;28;01mfor\u001b[39;00m name, info \u001b[38;5;129;01min\u001b[39;00m names_dict.items():\n",
      "\u001b[31mModuleNotFoundError\u001b[39m: No module named 'fuzzywuzzy'"
     ]
    }
   ],
   "source": [
    "print('Autocomplete for \"ali\" →', nd.auto_complete(\"ali\", n=10))\n",
    "print('Fuzzy for \"alise\" →', nd.fuzzy_search(\"alise\", n=5))\n"
   ]
  },
  {
   "cell_type": "code",
   "execution_count": null,
   "metadata": {},
   "outputs": [],
   "source": []
  },
  {
   "cell_type": "code",
   "execution_count": null,
   "metadata": {},
   "outputs": [],
   "source": []
  },
  {
   "cell_type": "code",
   "execution_count": null,
   "metadata": {},
   "outputs": [],
   "source": []
  },
  {
   "cell_type": "code",
   "execution_count": null,
   "metadata": {},
   "outputs": [],
   "source": []
  }
 ],
 "metadata": {
  "kernelspec": {
   "display_name": ".venv",
   "language": "python",
   "name": "python3"
  },
  "language_info": {
   "codemirror_mode": {
    "name": "ipython",
    "version": 3
   },
   "file_extension": ".py",
   "mimetype": "text/x-python",
   "name": "python",
   "nbconvert_exporter": "python",
   "pygments_lexer": "ipython3",
   "version": "3.12.5"
  }
 },
 "nbformat": 4,
 "nbformat_minor": 2
}
