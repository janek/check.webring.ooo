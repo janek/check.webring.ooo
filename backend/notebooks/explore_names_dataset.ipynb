{
 "cells": [
  {
   "cell_type": "raw",
   "metadata": {
    "vscode": {
     "languageId": "raw"
    }
   },
   "source": [
    "# Exploring `names_dataset` \n",
    "Quick hands-on tour of the data shipped with the library so we can decide what slice makes sense for check.webring.ooo.\n"
   ]
  },
  {
   "cell_type": "code",
   "execution_count": 11,
   "metadata": {},
   "outputs": [
    {
     "name": "stdout",
     "output_type": "stream",
     "text": [
      "⚡ Already loaded, skipping initialization\n"
     ]
    }
   ],
   "source": [
    "from names_dataset import NameDataset, NameWrapper\n",
    "import random, itertools, json, pprint\n",
    "\n",
    "# Skip heavy init if already loaded (prevents re-run on \"Run All\")\n",
    "if \"nd\" not in globals():\n",
    "    print(\"Loading NameDataset... (~2s, >100 MB RAM)\")\n",
    "    nd = NameDataset()\n",
    "    print(\n",
    "        \"✓ Loaded! first names = %d, last names = %d\"\n",
    "        % (len(nd.first_names), len(nd.last_names))\n",
    "    )\n",
    "else:\n",
    "    print(\"⚡ Already loaded, skipping initialization\")\n"
   ]
  },
  {
   "cell_type": "code",
   "execution_count": 13,
   "metadata": {},
   "outputs": [
    {
     "name": "stdout",
     "output_type": "stream",
     "text": [
      "['Senussi', 'Anádia', 'Curuvija', 'Zcarmen', 'Thìn', 'Marani', 'Papá Alfredo', 'Vejaa', 'Rawhya', 'Bank', 'Thainan', 'Местный', 'Alex Junius', 'Cândido', 'Nouhyla', 'Çhø', 'Rhila', 'Efser', 'Igusia', 'Elif Ada']\n"
     ]
    }
   ],
   "source": [
    "# 1. Random sample of 20\n",
    "sample_names = random.sample(list(nd.first_names.keys()), 20)\n",
    "print(sample_names)\n"
   ]
  },
  {
   "cell_type": "code",
   "execution_count": 16,
   "metadata": {},
   "outputs": [
    {
     "name": "stdout",
     "output_type": "stream",
     "text": [
      "['Md', 'Mohammad', 'Abdul', 'Sumon', 'Abu', 'Sk', 'Saiful', 'Hasan', 'Kazi', 'মোঃ', 'Arif', 'Masud', 'Abdullah', 'Imran', 'Abdur', 'Shamim', 'Mamun', 'Rasel', 'Angel', 'Sohel', 'Rubel', 'Tanvir', 'Mehedi', 'Abul', 'Al', 'Syed', 'Prince', 'Nazmul', 'Rakib', 'Sheikh', 'Kamrul', 'Nil', 'নীল', 'Monir', 'Jahangir', 'Sabbir', 'Shahin', 'Kamal', 'Ripon', 'Akash', 'Raju', 'Fahim', 'Rj', 'Masum', 'Abir', 'Faruk', 'Rajib', 'Shakil', 'Hridoy', 'Asif'] ...\n"
     ]
    }
   ],
   "source": [
    "# 2. Top-N names (popularity across all countries)\n",
    "\n",
    "top_raw = nd.get_top_names(n=50, use_first_names=True)\n",
    "\n",
    "\n",
    "def flatten_top(d):\n",
    "    for country_map in d.values():\n",
    "        for gender_map in country_map.values():\n",
    "            yield from gender_map\n",
    "\n",
    "\n",
    "top50 = list(itertools.islice(flatten_top(top_raw), 50))\n",
    "print(top50[:250], \"...\")\n"
   ]
  },
  {
   "cell_type": "code",
   "execution_count": 22,
   "metadata": {},
   "outputs": [
    {
     "name": "stdout",
     "output_type": "stream",
     "text": [
      "<names_dataset.nd_v3.NameWrapper object at 0x367551850>\n",
      "Gender/Country guess → Female, Italy\n",
      "{'first_name': {'country': {'Brazil': 0.054,\n",
      "                            'France': 0.156,\n",
      "                            'United Kingdom': 0.098,\n",
      "                            'Hong Kong': 0.036,\n",
      "                            'Italy': 0.412,\n",
      "                            'Malaysia': 0.055,\n",
      "                            'Nigeria': 0.027,\n",
      "                            'Singapore': 0.03,\n",
      "                            'United States': 0.096,\n",
      "                            'South Africa': 0.037},\n",
      "                'gender': {'Female': 0.988, 'Male': 0.012},\n",
      "                'rank': {'Brazil': 163,\n",
      "                         'France': 172,\n",
      "                         'United Kingdom': 184,\n",
      "                         'Hong Kong': 49,\n",
      "                         'Italy': 125,\n",
      "                         'Malaysia': 82,\n",
      "                         'Nigeria': 362,\n",
      "                         'Singapore': 25,\n",
      "                         'United States': 440,\n",
      "                         'South Africa': 387}},\n",
      " 'last_name': {'country': {'Brazil': 0.157,\n",
      "                           'Cameroon': 0.054,\n",
      "                           'France': 0.086,\n",
      "                           'United Kingdom': 0.068,\n",
      "                           'Italy': 0.124,\n",
      "                           'Malaysia': 0.167,\n",
      "                           'Nigeria': 0.121,\n",
      "                           'Singapore': 0.056,\n",
      "                           'United States': 0.061,\n",
      "                           'South Africa': 0.106},\n",
      "               'gender': {},\n",
      "               'rank': {'Brazil': 447,\n",
      "                        'Cameroon': 347,\n",
      "                        'France': 2438,\n",
      "                        'United Kingdom': 2340,\n",
      "                        'Italy': 5051,\n",
      "                        'Malaysia': 921,\n",
      "                        'Nigeria': 1081,\n",
      "                        'Singapore': 512,\n",
      "                        'United States': 5810,\n",
      "                        'South Africa': 1764}}}\n"
     ]
    }
   ],
   "source": [
    "# 3. Inspect metadata for a given name\n",
    "name = \"Alice\"\n",
    "result = nd.search(name)\n",
    "wrapper = NameWrapper(result)\n",
    "print(wrapper)\n",
    "print(\"Gender/Country guess →\", wrapper.describe)\n",
    "pprint.pp(result)\n"
   ]
  },
  {
   "cell_type": "raw",
   "metadata": {
    "vscode": {
     "languageId": "raw"
    }
   },
   "source": []
  },
  {
   "cell_type": "code",
   "execution_count": 24,
   "metadata": {},
   "outputs": [
    {
     "name": "stdout",
     "output_type": "stream",
     "text": [
      "Autocomplete for \"ali\" → [{'name': 'Ali', 'rank': 7}, {'name': 'Alicia', 'rank': 171}, {'name': 'Alice', 'rank': 198}, {'name': 'Alina', 'rank': 482}, {'name': 'Alison', 'rank': 577}, {'name': 'Aline', 'rank': 728}, {'name': 'Alisados', 'rank': 976}, {'name': 'Alia', 'rank': 1034}, {'name': 'Alim', 'rank': 1099}, {'name': 'Alisa', 'rank': 1142}]\n"
     ]
    },
    {
     "name": "stderr",
     "output_type": "stream",
     "text": [
      "/Users/janek/Developer/personal/check.webring.ooo/backend/.venv/lib/python3.12/site-packages/fuzzywuzzy/fuzz.py:11: UserWarning: Using slow pure-python SequenceMatcher. Install python-Levenshtein to remove this warning\n",
      "  warnings.warn('Using slow pure-python SequenceMatcher. Install python-Levenshtein to remove this warning')\n"
     ]
    },
    {
     "name": "stdout",
     "output_type": "stream",
     "text": [
      "Fuzzy for \"alise\" → [{'name': 'Alvise', 'rank': 1311}, {'name': 'Ailise', 'rank': 2034}, {'name': 'Alis', 'rank': 2266}, {'name': 'Aliseia', 'rank': 3398}, {'name': 'Alatise', 'rank': 3792}]\n"
     ]
    }
   ],
   "source": [
    "# 4. Autocomplete / fuzzy search demo\n",
    "print('Autocomplete for \"ali\" →', nd.auto_complete(\"ali\", n=10))\n",
    "print('Fuzzy for \"alise\" →', nd.fuzzy_search(\"alise\", n=5))\n"
   ]
  }
 ],
 "metadata": {
  "kernelspec": {
   "display_name": ".venv",
   "language": "python",
   "name": "python3"
  },
  "language_info": {
   "codemirror_mode": {
    "name": "ipython",
    "version": 3
   },
   "file_extension": ".py",
   "mimetype": "text/x-python",
   "name": "python",
   "nbconvert_exporter": "python",
   "pygments_lexer": "ipython3",
   "version": "3.12.5"
  }
 },
 "nbformat": 4,
 "nbformat_minor": 2
}
