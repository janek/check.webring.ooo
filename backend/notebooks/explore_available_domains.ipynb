{
  "cells": [
    {
      "cell_type": "code",
      "execution_count": 20,
      "metadata": {},
      "outputs": [
        {
          "name": "stdout",
          "output_type": "stream",
          "text": [
            "Dataset shape: (64335, 3)\n",
            "Columns: ['domain', 'status', 'ttl_seconds']\n",
            "\n",
            "First few rows:\n"
          ]
        },
        {
          "data": {
            "text/html": [
              "<div>\n",
              "<style scoped>\n",
              "    .dataframe tbody tr th:only-of-type {\n",
              "        vertical-align: middle;\n",
              "    }\n",
              "\n",
              "    .dataframe tbody tr th {\n",
              "        vertical-align: top;\n",
              "    }\n",
              "\n",
              "    .dataframe thead th {\n",
              "        text-align: right;\n",
              "    }\n",
              "</style>\n",
              "<table border=\"1\" class=\"dataframe\">\n",
              "  <thead>\n",
              "    <tr style=\"text-align: right;\">\n",
              "      <th></th>\n",
              "      <th>domain</th>\n",
              "      <th>status</th>\n",
              "      <th>ttl_seconds</th>\n",
              "    </tr>\n",
              "  </thead>\n",
              "  <tbody>\n",
              "    <tr>\n",
              "      <th>0</th>\n",
              "      <td>a l rm.ooo</td>\n",
              "      <td>free</td>\n",
              "      <td>585744</td>\n",
              "    </tr>\n",
              "    <tr>\n",
              "      <th>1</th>\n",
              "      <td>a lopez.ooo</td>\n",
              "      <td>free</td>\n",
              "      <td>585789</td>\n",
              "    </tr>\n",
              "    <tr>\n",
              "      <th>2</th>\n",
              "      <td>a yosselin.ooo</td>\n",
              "      <td>free</td>\n",
              "      <td>585722</td>\n",
              "    </tr>\n",
              "    <tr>\n",
              "      <th>3</th>\n",
              "      <td>a-mansour.ooo</td>\n",
              "      <td>free</td>\n",
              "      <td>587379</td>\n",
              "    </tr>\n",
              "    <tr>\n",
              "      <th>4</th>\n",
              "      <td>aaa.ooo</td>\n",
              "      <td>free</td>\n",
              "      <td>602233</td>\n",
              "    </tr>\n",
              "  </tbody>\n",
              "</table>\n",
              "</div>"
            ],
            "text/plain": [
              "           domain status  ttl_seconds\n",
              "0      a l rm.ooo   free       585744\n",
              "1     a lopez.ooo   free       585789\n",
              "2  a yosselin.ooo   free       585722\n",
              "3   a-mansour.ooo   free       587379\n",
              "4         aaa.ooo   free       602233"
            ]
          },
          "execution_count": 20,
          "metadata": {},
          "output_type": "execute_result"
        }
      ],
      "source": [
        "import pandas as pd\n",
        "import numpy as np\n",
        "\n",
        "# Load the cached domains dataset\n",
        "df = pd.read_csv(\"../data/cached_domains_2025-06-12-19-52.csv\")\n",
        "\n",
        "print(f\"Dataset shape: {df.shape}\")\n",
        "print(f\"Columns: {list(df.columns)}\")\n",
        "print(\"\\nFirst few rows:\")\n",
        "df.head()\n"
      ]
    },
    {
      "cell_type": "code",
      "execution_count": 21,
      "metadata": {},
      "outputs": [
        {
          "name": "stdout",
          "output_type": "stream",
          "text": [
            "Total number of 3-letter domains in dataset: 17585\n",
            "Total domains in dataset: 64335\n",
            "Percentage of 3-letter domains: 27.33%\n",
            "\n",
            "Columns available: ['domain', 'status', 'ttl_seconds']\n",
            "\n",
            "Unique status values: ['free' 'taken']\n",
            "\n",
            "3-letter domains that are TAKEN: 1240\n",
            "3-letter domains that are AVAILABLE: 16345\n"
          ]
        }
      ],
      "source": [
        "# Filter for 3-letter domains (excluding .ooo)\n",
        "three_letter_domains = df[df[\"domain\"].str.replace(\".ooo\", \"\").str.len() == 3]\n",
        "\n",
        "print(f\"Total number of 3-letter domains in dataset: {len(three_letter_domains)}\")\n",
        "print(f\"Total domains in dataset: {len(df)}\")\n",
        "print(\n",
        "    f\"Percentage of 3-letter domains: {len(three_letter_domains) / len(df) * 100:.2f}%\"\n",
        ")\n",
        "\n",
        "# Check what columns indicate availability/taken status\n",
        "print(f\"\\nColumns available: {list(df.columns)}\")\n",
        "if \"available\" in df.columns:\n",
        "    taken_three_letter = three_letter_domains[\n",
        "        three_letter_domains[\"available\"] == False\n",
        "    ]\n",
        "    available_three_letter = three_letter_domains[\n",
        "        three_letter_domains[\"available\"] == True\n",
        "    ]\n",
        "    print(f\"\\n3-letter domains that are TAKEN: {len(taken_three_letter)}\")\n",
        "    print(f\"3-letter domains that are AVAILABLE: {len(available_three_letter)}\")\n",
        "elif \"status\" in df.columns:\n",
        "    print(f\"\\nUnique status values: {df['status'].unique()}\")\n",
        "    taken_three_letter = three_letter_domains[three_letter_domains[\"status\"] != \"free\"]\n",
        "    available_three_letter = three_letter_domains[\n",
        "        three_letter_domains[\"status\"] == \"free\"\n",
        "    ]\n",
        "    print(f\"\\n3-letter domains that are TAKEN: {len(taken_three_letter)}\")\n",
        "    print(f\"3-letter domains that are AVAILABLE: {len(available_three_letter)}\")\n",
        "else:\n",
        "    print(\"\\nNeed to examine the data structure to determine availability status\")\n"
      ]
    },
    {
      "cell_type": "code",
      "execution_count": 22,
      "metadata": {},
      "outputs": [
        {
          "name": "stdout",
          "output_type": "stream",
          "text": [
            "Sample of 3-letter domains:\n",
            "     domain status  ttl_seconds\n",
            "4   aaa.ooo   free       602233\n",
            "5   aab.ooo   free       602234\n",
            "7   aac.ooo   free       602233\n",
            "9   aad.ooo   free       587481\n",
            "12  aae.ooo   free       602232\n",
            "13  aaf.ooo   free       602232\n",
            "15  aag.ooo   free       602235\n",
            "17  aah.ooo   free       602235\n",
            "18  aai.ooo  taken       602234\n",
            "21  aaj.ooo   free       602234\n",
            "\n",
            "==================================================\n",
            "Examples of TAKEN 3-letter domains:\n",
            "['aai.ooo', 'aao.ooo', 'aaw.ooo', 'aba.ooo', 'abb.ooo', 'abd.ooo', 'abf.ooo', 'abg.ooo', 'abn.ooo', 'abp.ooo']\n",
            "\n",
            "Examples of AVAILABLE 3-letter domains:\n",
            "['aaa.ooo', 'aab.ooo', 'aac.ooo', 'aad.ooo', 'aae.ooo', 'aaf.ooo', 'aag.ooo', 'aah.ooo', 'aaj.ooo', 'aak.ooo']\n"
          ]
        }
      ],
      "source": [
        "# Show some examples of 3-letter domains\n",
        "print(\"Sample of 3-letter domains:\")\n",
        "print(three_letter_domains.head(10))\n",
        "\n",
        "if \"available\" in df.columns or \"status\" in df.columns:\n",
        "    print(\"\\n\" + \"=\" * 50)\n",
        "    if \"available\" in df.columns:\n",
        "        print(\"Examples of TAKEN 3-letter domains:\")\n",
        "        print(taken_three_letter.head(10)[\"domain\"].tolist())\n",
        "        print(\"\\nExamples of AVAILABLE 3-letter domains:\")\n",
        "        print(available_three_letter.head(10)[\"domain\"].tolist())\n",
        "    else:\n",
        "        print(\"Examples of TAKEN 3-letter domains:\")\n",
        "        print(taken_three_letter.head(10)[\"domain\"].tolist())\n",
        "        print(\"\\nExamples of AVAILABLE 3-letter domains:\")\n",
        "        print(available_three_letter.head(10)[\"domain\"].tolist())\n"
      ]
    },
    {
      "cell_type": "code",
      "execution_count": 24,
      "metadata": {},
      "outputs": [],
      "source": [
        "three_letter_domains.sort_values(by=[\"domain\"]).drop(columns=[\"ttl_seconds\"]).to_csv(\n",
        "    \"three_letter_domains.csv\", index=False\n",
        ")\n"
      ]
    },
    {
      "cell_type": "code",
      "execution_count": null,
      "metadata": {},
      "outputs": [],
      "source": []
    }
  ],
  "metadata": {
    "kernelspec": {
      "display_name": ".venv",
      "language": "python",
      "name": "python3"
    },
    "language_info": {
      "codemirror_mode": {
        "name": "ipython",
        "version": 3
      },
      "file_extension": ".py",
      "mimetype": "text/x-python",
      "name": "python",
      "nbconvert_exporter": "python",
      "pygments_lexer": "ipython3",
      "version": "3.12.5"
    }
  },
  "nbformat": 4,
  "nbformat_minor": 2
}
