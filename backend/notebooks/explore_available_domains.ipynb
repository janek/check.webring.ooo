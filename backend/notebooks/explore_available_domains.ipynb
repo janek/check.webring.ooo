{
  "cells": [
    {
      "cell_type": "code",
      "execution_count": 4,
      "metadata": {},
      "outputs": [
        {
          "name": "stdout",
          "output_type": "stream",
          "text": [
            "Dataset shape: (47951, 3)\n",
            "Columns: ['domain', 'status', 'ttl_seconds']\n",
            "\n",
            "First few rows:\n"
          ]
        },
        {
          "data": {
            "text/html": [
              "<div>\n",
              "<style scoped>\n",
              "    .dataframe tbody tr th:only-of-type {\n",
              "        vertical-align: middle;\n",
              "    }\n",
              "\n",
              "    .dataframe tbody tr th {\n",
              "        vertical-align: top;\n",
              "    }\n",
              "\n",
              "    .dataframe thead th {\n",
              "        text-align: right;\n",
              "    }\n",
              "</style>\n",
              "<table border=\"1\" class=\"dataframe\">\n",
              "  <thead>\n",
              "    <tr style=\"text-align: right;\">\n",
              "      <th></th>\n",
              "      <th>domain</th>\n",
              "      <th>status</th>\n",
              "      <th>ttl_seconds</th>\n",
              "    </tr>\n",
              "  </thead>\n",
              "  <tbody>\n",
              "    <tr>\n",
              "      <th>0</th>\n",
              "      <td>a l rm.ooo</td>\n",
              "      <td>free</td>\n",
              "      <td>596104</td>\n",
              "    </tr>\n",
              "    <tr>\n",
              "      <th>1</th>\n",
              "      <td>a lopez.ooo</td>\n",
              "      <td>free</td>\n",
              "      <td>596148</td>\n",
              "    </tr>\n",
              "    <tr>\n",
              "      <th>2</th>\n",
              "      <td>a yosselin.ooo</td>\n",
              "      <td>free</td>\n",
              "      <td>596081</td>\n",
              "    </tr>\n",
              "    <tr>\n",
              "      <th>3</th>\n",
              "      <td>a-mansour.ooo</td>\n",
              "      <td>free</td>\n",
              "      <td>597739</td>\n",
              "    </tr>\n",
              "    <tr>\n",
              "      <th>4</th>\n",
              "      <td>aabush.ooo</td>\n",
              "      <td>free</td>\n",
              "      <td>592799</td>\n",
              "    </tr>\n",
              "  </tbody>\n",
              "</table>\n",
              "</div>"
            ],
            "text/plain": [
              "           domain status  ttl_seconds\n",
              "0      a l rm.ooo   free       596104\n",
              "1     a lopez.ooo   free       596148\n",
              "2  a yosselin.ooo   free       596081\n",
              "3   a-mansour.ooo   free       597739\n",
              "4      aabush.ooo   free       592799"
            ]
          },
          "execution_count": 4,
          "metadata": {},
          "output_type": "execute_result"
        }
      ],
      "source": [
        "import pandas as pd\n",
        "import numpy as np\n",
        "\n",
        "# Load the cached domains dataset\n",
        "df = pd.read_csv(\"../data/cached_domains_2025-06-12-17-00.csv\")\n",
        "\n",
        "print(f\"Dataset shape: {df.shape}\")\n",
        "print(f\"Columns: {list(df.columns)}\")\n",
        "print(\"\\nFirst few rows:\")\n",
        "df.head()\n"
      ]
    },
    {
      "cell_type": "code",
      "execution_count": null,
      "metadata": {},
      "outputs": [
        {
          "name": "stdout",
          "output_type": "stream",
          "text": [
            "Total number of 3-letter domains in dataset: 1201\n",
            "Total domains in dataset: 47951\n",
            "Percentage of 3-letter domains: 2.50%\n",
            "\n",
            "Columns available: ['domain', 'status', 'ttl_seconds']\n",
            "\n",
            "Unique status values: ['free' 'taken']\n",
            "\n",
            "3-letter domains that are TAKEN: 280\n",
            "3-letter domains that are AVAILABLE: 921\n"
          ]
        }
      ],
      "source": [
        "# Filter for 3-letter domains (excluding .ooo)\n",
        "three_letter_domains = df[df[\"domain\"].str.replace(\".ooo\", \"\").str.len() == 3]\n",
        "\n",
        "print(f\"Total number of 3-letter domains in dataset: {len(three_letter_domains)}\")\n",
        "print(f\"Total domains in dataset: {len(df)}\")\n",
        "print(\n",
        "    f\"Percentage of 3-letter domains: {len(three_letter_domains) / len(df) * 100:.2f}%\"\n",
        ")\n",
        "\n",
        "# Check what columns indicate availability/taken status\n",
        "print(f\"\\nColumns available: {list(df.columns)}\")\n",
        "if \"available\" in df.columns:\n",
        "    taken_three_letter = three_letter_domains[\n",
        "        three_letter_domains[\"available\"] == False\n",
        "    ]\n",
        "    available_three_letter = three_letter_domains[\n",
        "        three_letter_domains[\"available\"] == True\n",
        "    ]\n",
        "    print(f\"\\n3-letter domains that are TAKEN: {len(taken_three_letter)}\")\n",
        "    print(f\"3-letter domains that are AVAILABLE: {len(available_three_letter)}\")\n",
        "elif \"status\" in df.columns:\n",
        "    print(f\"\\nUnique status values: {df['status'].unique()}\")\n",
        "    taken_three_letter = three_letter_domains[three_letter_domains[\"status\"] != \"free\"]\n",
        "    available_three_letter = three_letter_domains[\n",
        "        three_letter_domains[\"status\"] == \"free\"\n",
        "    ]\n",
        "    print(f\"\\n3-letter domains that are TAKEN: {len(taken_three_letter)}\")\n",
        "    print(f\"3-letter domains that are AVAILABLE: {len(available_three_letter)}\")\n",
        "else:\n",
        "    print(\"\\nNeed to examine the data structure to determine availability status\")\n"
      ]
    },
    {
      "cell_type": "code",
      "execution_count": 13,
      "metadata": {},
      "outputs": [
        {
          "name": "stdout",
          "output_type": "stream",
          "text": [
            "Sample of 3-letter domains:\n",
            "      domain status  ttl_seconds\n",
            "6    aad.ooo   free       597841\n",
            "24   aan.ooo   free       594023\n",
            "55   aba.ooo  taken       539495\n",
            "102  abd.ooo  taken       544940\n",
            "313  abe.ooo   free       596664\n",
            "337  abg.ooo  taken       541924\n",
            "346  abi.ooo   free       592295\n",
            "395  abo.ooo   free       593622\n",
            "447  abu.ooo   free       592063\n",
            "466  aby.ooo  taken       545172\n",
            "\n",
            "==================================================\n",
            "Examples of TAKEN 3-letter domains:\n",
            "['aba.ooo', 'abd.ooo', 'abg.ooo', 'aby.ooo', 'ace.ooo', 'ach.ooo', 'adi.ooo', 'ado.ooo', 'adv.ooo', 'afa.ooo']\n",
            "\n",
            "Examples of AVAILABLE 3-letter domains:\n",
            "['aad.ooo', 'aan.ooo', 'abe.ooo', 'abi.ooo', 'abo.ooo', 'abu.ooo', 'aca.ooo', 'aco.ooo', 'ada.ooo', 'ade.ooo']\n"
          ]
        }
      ],
      "source": [
        "# Show some examples of 3-letter domains\n",
        "print(\"Sample of 3-letter domains:\")\n",
        "print(three_letter_domains.head(10))\n",
        "\n",
        "if \"available\" in df.columns or \"status\" in df.columns:\n",
        "    print(\"\\n\" + \"=\" * 50)\n",
        "    if \"available\" in df.columns:\n",
        "        print(\"Examples of TAKEN 3-letter domains:\")\n",
        "        print(taken_three_letter.head(10)[\"domain\"].tolist())\n",
        "        print(\"\\nExamples of AVAILABLE 3-letter domains:\")\n",
        "        print(available_three_letter.head(10)[\"domain\"].tolist())\n",
        "    else:\n",
        "        print(\"Examples of TAKEN 3-letter domains:\")\n",
        "        print(taken_three_letter.head(10)[\"domain\"].tolist())\n",
        "        print(\"\\nExamples of AVAILABLE 3-letter domains:\")\n",
        "        print(available_three_letter.head(10)[\"domain\"].tolist())\n"
      ]
    },
    {
      "cell_type": "code",
      "execution_count": 19,
      "metadata": {},
      "outputs": [],
      "source": [
        "three_letter_domains.sort_values(by=[\"status\", \"domain\"]).drop(\n",
        "    columns=[\"ttl_seconds\"]\n",
        ").to_csv(\"three_letter_domains.csv\", index=False)\n"
      ]
    },
    {
      "cell_type": "code",
      "execution_count": null,
      "metadata": {},
      "outputs": [],
      "source": []
    }
  ],
  "metadata": {
    "kernelspec": {
      "display_name": ".venv",
      "language": "python",
      "name": "python3"
    },
    "language_info": {
      "codemirror_mode": {
        "name": "ipython",
        "version": 3
      },
      "file_extension": ".py",
      "mimetype": "text/x-python",
      "name": "python",
      "nbconvert_exporter": "python",
      "pygments_lexer": "ipython3",
      "version": "3.12.5"
    }
  },
  "nbformat": 4,
  "nbformat_minor": 2
}
